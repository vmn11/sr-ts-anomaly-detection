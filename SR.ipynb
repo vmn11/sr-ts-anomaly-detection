{
 "cells": [
  {
   "cell_type": "code",
   "execution_count": 1,
   "id": "610f2961",
   "metadata": {},
   "outputs": [],
   "source": [
    "import numpy as np\n",
    "import pandas as pd\n",
    "import matplotlib.pyplot as plt"
   ]
  },
  {
   "cell_type": "code",
   "execution_count": 2,
   "id": "fba073bd",
   "metadata": {},
   "outputs": [],
   "source": [
    "class SpectralResidual:\n",
    "    def __init__(\n",
    "        self, \n",
    "        threshold, \n",
    "        mag_window, \n",
    "        sliding_window, \n",
    "        num_predictions,\n",
    "        pred_lookback,\n",
    "    ):\n",
    "        self.threshold = threshold\n",
    "        self.mag_window = mag_window\n",
    "        self.sliding_window = sliding_window\n",
    "        self.num_predictions = num_predictions\n",
    "        self.pred_lookback = pred_lookback\n",
    "    \n",
    "    def predict_next(self, values):\n",
    "        \"\"\"\n",
    "        Predicts the next value by sum up the slope of the last value with previous values.\n",
    "        Mathematically, g = 1/m * sum_{i=1}^{m} g(x_n, x_{n-i}), x_{n+1} = x_{n-m+1} + g * m,\n",
    "        where g(x_i,x_j) = (x_i - x_j) / (i - j)\n",
    "        :param values: list.\n",
    "            a list of float numbers.\n",
    "        :return : float.\n",
    "            the predicted next value.\n",
    "        \"\"\"\n",
    "\n",
    "        if len(values) <= 1:\n",
    "            raise ValueError(f'data should contain at least 2 numbers')\n",
    "\n",
    "        v_last = values[-1]\n",
    "        n = len(values)\n",
    "\n",
    "        slopes = [(v_last - v) / (n - 1 - i) for i, v in enumerate(values[:-1])]\n",
    "\n",
    "        return values[-self.pred_lookback] + sum(slopes)\n",
    "    \n",
    "    def extend_series(self, values):\n",
    "        \"\"\"\n",
    "        extend the array data by the predicted next value\n",
    "        :param values: list.\n",
    "            a list of float numbers.\n",
    "        :param extend_num: int, default 5.\n",
    "            number of values added to the back of data.\n",
    "        :param look_ahead: int, default 5.\n",
    "            number of previous values used in prediction.\n",
    "        :return: list.\n",
    "            The result array.\n",
    "        \"\"\"\n",
    "\n",
    "        if self.pred_lookback < 1:\n",
    "            raise ValueError('look_ahead must be at least 1')\n",
    "\n",
    "        extension = [self.predict_next(values[-self.pred_lookback - 2:-1])] * self.num_predictions\n",
    "        \n",
    "        return np.concatenate((values, extension), axis=0)\n",
    "    \n",
    "    @staticmethod\n",
    "    def average_filter(values, n=3):\n",
    "        \"\"\"\n",
    "        Calculate the sliding window average for the give time series.\n",
    "        Mathematically, res[i] = sum_{j=i-t+1}^{i} values[j] / t, where t = min(n, i+1)\n",
    "        :param values: list.\n",
    "            a list of float numbers\n",
    "        :param n: int, default 3.\n",
    "            window size.\n",
    "        :return res: list.\n",
    "            a list of value after the average_filter process.\n",
    "        \"\"\"\n",
    "\n",
    "        if n >= len(values):\n",
    "            n = len(values)\n",
    "\n",
    "        res = np.cumsum(values, dtype=float)\n",
    "        res[n:] = res[n:] - res[:-n]\n",
    "        res[n:] = res[n:] / n\n",
    "\n",
    "        for i in range(1, n):\n",
    "            res[i] /= (i + 1)\n",
    "\n",
    "        return res\n",
    "    \n",
    "    def spectral_residual_transform(self, values):\n",
    "        \"\"\"\n",
    "        This method transform a time series into spectral residual series\n",
    "        :param values: list.\n",
    "            a list of float values.\n",
    "        :return: mag: list.\n",
    "            a list of float values as the spectral residual values\n",
    "        \"\"\"\n",
    "\n",
    "        trans = np.fft.fft(values)\n",
    "        mag = np.sqrt(trans.real ** 2 + trans.imag ** 2)\n",
    "        eps_index = np.where(mag <= 1e-8)[0]\n",
    "        mag[eps_index] = 1e-8\n",
    "\n",
    "        mag_log = np.log(mag)\n",
    "        mag_log[eps_index] = 0\n",
    "\n",
    "        spectral = np.exp(mag_log - SpectralResidual.average_filter(mag_log, n=self.mag_window))\n",
    "\n",
    "        trans.real = trans.real * spectral / mag\n",
    "        trans.imag = trans.imag * spectral / mag\n",
    "        trans.real[eps_index] = 0\n",
    "        trans.imag[eps_index] = 0\n",
    "\n",
    "        wave_r = np.fft.ifft(trans)\n",
    "        mag = np.sqrt(wave_r.real ** 2 + wave_r.imag ** 2)\n",
    "        \n",
    "        return mag\n",
    "    \n",
    "    def generate_spectral_score(self, mags):\n",
    "        ave_mag = SpectralResidual.average_filter(mags, n=self.sliding_window)\n",
    "        safeDivisors = np.clip(ave_mag, 1e-8, ave_mag.max())\n",
    "\n",
    "        raw_scores = np.abs(mags - ave_mag) / safeDivisors\n",
    "        scores = np.clip(raw_scores / 10.0, 0, 1.0)\n",
    "\n",
    "        return scores\n",
    "    \n",
    "    def detect(self, values):\n",
    "        extended_series = self.extend_series(values)\n",
    "        mags = self.spectral_residual_transform(extended_series)\n",
    "        anomaly_scores = self.generate_spectral_score(mags)\n",
    "        pred = anomaly_scores[-self.num_predictions - 1] > self.threshold\n",
    "        \n",
    "        return pred"
   ]
  },
  {
   "cell_type": "code",
   "execution_count": 3,
   "id": "078ac015",
   "metadata": {},
   "outputs": [],
   "source": [
    "ts = np.array(pd.read_csv('ts.csv')).flatten()"
   ]
  },
  {
   "cell_type": "code",
   "execution_count": 4,
   "id": "00dc163b",
   "metadata": {},
   "outputs": [
    {
     "data": {
      "text/plain": [
       "[<matplotlib.lines.Line2D at 0x7fac86bb8d50>]"
      ]
     },
     "execution_count": 4,
     "metadata": {},
     "output_type": "execute_result"
    },
    {
     "data": {
      "image/png": "[encoded data removed]",
      "text/plain": [
       "<Figure size 432x288 with 1 Axes>"
      ]
     },
     "metadata": {
      "needs_background": "light"
     },
     "output_type": "display_data"
    }
   ],
   "source": [
    "plt.plot(ts)"
   ]
  },
  {
   "cell_type": "code",
   "execution_count": 5,
   "id": "1018dde1",
   "metadata": {},
   "outputs": [],
   "source": [
    "sliding_window_size = 30\n",
    "n = len(ts)\n",
    "X = []\n",
    "for i in range(n - sliding_window_size + 1):\n",
    "    X.append(ts[i:i + sliding_window_size])"
   ]
  },
  {
   "cell_type": "code",
   "execution_count": 6,
   "id": "caab8982",
   "metadata": {},
   "outputs": [],
   "source": [
    "sr = SpectralResidual(0.3, 30, 30, 5, 5)\n",
    "m = len(X)"
   ]
  },
  {
   "cell_type": "code",
   "execution_count": 7,
   "id": "d34ae682",
   "metadata": {},
   "outputs": [],
   "source": [
    "predictions = []\n",
    "for candidate in X:\n",
    "    predictions.append(sr.detect(candidate))"
   ]
  },
  {
   "cell_type": "code",
   "execution_count": 8,
   "id": "c5271efb",
   "metadata": {},
   "outputs": [
    {
     "data": {
      "image/png": "[encoded data removed]",
      "text/plain": [
       "<Figure size 432x288 with 1 Axes>"
      ]
     },
     "metadata": {
      "needs_background": "light"
     },
     "output_type": "display_data"
    }
   ],
   "source": [
    "fig, ax = plt.subplots()\n",
    "ax.plot(ts[-m:])\n",
    "for idx, anomaly in enumerate(predictions):\n",
    "    if anomaly:\n",
    "        ax.plot(idx, ts[sliding_window_size + idx - 1], marker='x', color='r')"
   ]
  },
  {
   "cell_type": "code",
   "execution_count": null,
   "id": "4708b907",
   "metadata": {},
   "outputs": [],
   "source": []
  }
 ],
 "metadata": {
  "kernelspec": {
   "display_name": "Python 3 (ipykernel)",
   "language": "python",
   "name": "python3"
  },
  "language_info": {
   "codemirror_mode": {
    "name": "ipython",
    "version": 3
   },
   "file_extension": ".py",
   "mimetype": "text/x-python",
   "name": "python",
   "nbconvert_exporter": "python",
   "pygments_lexer": "ipython3",
   "version": "3.7.11"
  }
 },
 "nbformat": 4,
 "nbformat_minor": 5
}
